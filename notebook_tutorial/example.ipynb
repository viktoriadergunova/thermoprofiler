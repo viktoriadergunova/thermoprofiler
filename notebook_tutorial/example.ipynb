{
 "cells": [
  {
   "cell_type": "markdown",
   "metadata": {},
   "source": [
    "# SHC / TC / TD Prediction - ThermoProfiler\n",
    "*Predicting Petrophysical Properties from Well Logs*\n",
    "\n",
    "- Upload your well log data \n",
    "- Select **rock type, model, and target variable**\n",
    "- Run predictions using pre-trained models\n"
   ]
  },
  {
   "cell_type": "code",
   "execution_count": 1,
   "metadata": {
    "ExecuteTime": {
     "end_time": "2024-04-11T12:38:57.675863Z",
     "start_time": "2024-04-11T12:38:56.346598Z"
    },
    "colab": {
     "base_uri": "https://localhost:8080/"
    },
    "id": "naLFqv7hau0U",
    "outputId": "d4c2b8e8-c0c6-4a03-c97e-8218872ebd2d"
   },
   "outputs": [],
   "source": [
    "# MAKE SURE OF CORRECT VERSIONS\n",
    "#pip install scikit-learn==1.2.1\n",
    "#pip install numpy==1.25.2\n",
    "\n",
    "import pandas as pd\n",
    "import numpy as np\n",
    "from joblib import load\n",
    "import sys\n",
    "import os\n",
    "sys.path.append(os.path.abspath(\"..\")) \n",
    "\n",
    "sys.path.append(os.path.abspath(\"../thermoprofiler\")) "
   ]
  },
  {
   "cell_type": "markdown",
   "metadata": {},
   "source": [
    "### STEP 1 -  LOAD DATA"
   ]
  },
  {
   "cell_type": "code",
   "execution_count": 2,
   "metadata": {
    "ExecuteTime": {
     "end_time": "2024-04-11T12:38:58.667373Z",
     "start_time": "2024-04-11T12:38:58.624121Z"
    },
    "colab": {
     "base_uri": "https://localhost:8080/",
     "height": 224
    },
    "id": "OluFe6-Oa2Ss",
    "outputId": "89bf0456-3326-41ae-84c5-bb9a247de29c"
   },
   "outputs": [
    {
     "data": {
      "text/html": [
       "<div>\n",
       "<style scoped>\n",
       "    .dataframe tbody tr th:only-of-type {\n",
       "        vertical-align: middle;\n",
       "    }\n",
       "\n",
       "    .dataframe tbody tr th {\n",
       "        vertical-align: top;\n",
       "    }\n",
       "\n",
       "    .dataframe thead th {\n",
       "        text-align: right;\n",
       "    }\n",
       "</style>\n",
       "<table border=\"1\" class=\"dataframe\">\n",
       "  <thead>\n",
       "    <tr style=\"text-align: right;\">\n",
       "      <th></th>\n",
       "      <th>Depth</th>\n",
       "      <th>Stratigraphy</th>\n",
       "      <th>Temp</th>\n",
       "      <th>GR</th>\n",
       "      <th>CAL</th>\n",
       "      <th>PHIN</th>\n",
       "      <th>RHOB</th>\n",
       "      <th>VSH</th>\n",
       "      <th>Lithology</th>\n",
       "      <th>Rock_type</th>\n",
       "    </tr>\n",
       "  </thead>\n",
       "  <tbody>\n",
       "    <tr>\n",
       "      <th>0</th>\n",
       "      <td>0.00</td>\n",
       "      <td>Quaternary-Saale</td>\n",
       "      <td>-999.25</td>\n",
       "      <td>8.59859</td>\n",
       "      <td>-999</td>\n",
       "      <td>-999</td>\n",
       "      <td>-999</td>\n",
       "      <td>-999.25</td>\n",
       "      <td>S</td>\n",
       "      <td>3</td>\n",
       "    </tr>\n",
       "    <tr>\n",
       "      <th>1</th>\n",
       "      <td>0.25</td>\n",
       "      <td>Quaternary-Saale</td>\n",
       "      <td>-999.25</td>\n",
       "      <td>8.59859</td>\n",
       "      <td>-999</td>\n",
       "      <td>-999</td>\n",
       "      <td>-999</td>\n",
       "      <td>0.065429</td>\n",
       "      <td>S</td>\n",
       "      <td>3</td>\n",
       "    </tr>\n",
       "    <tr>\n",
       "      <th>2</th>\n",
       "      <td>0.50</td>\n",
       "      <td>Quaternary-Saale</td>\n",
       "      <td>-999.25</td>\n",
       "      <td>7.65106</td>\n",
       "      <td>-999</td>\n",
       "      <td>-999</td>\n",
       "      <td>-999</td>\n",
       "      <td>0.0482012</td>\n",
       "      <td>S</td>\n",
       "      <td>3</td>\n",
       "    </tr>\n",
       "    <tr>\n",
       "      <th>3</th>\n",
       "      <td>0.75</td>\n",
       "      <td>Quaternary-Saale</td>\n",
       "      <td>-999.25</td>\n",
       "      <td>7.70233</td>\n",
       "      <td>-999</td>\n",
       "      <td>-999</td>\n",
       "      <td>-999</td>\n",
       "      <td>0.0491333</td>\n",
       "      <td>S</td>\n",
       "      <td>3</td>\n",
       "    </tr>\n",
       "    <tr>\n",
       "      <th>4</th>\n",
       "      <td>1.00</td>\n",
       "      <td>Quaternary-Saale</td>\n",
       "      <td>-999.25</td>\n",
       "      <td>9.43716</td>\n",
       "      <td>-999</td>\n",
       "      <td>-999</td>\n",
       "      <td>-999</td>\n",
       "      <td>0.0806757</td>\n",
       "      <td>S</td>\n",
       "      <td>3</td>\n",
       "    </tr>\n",
       "    <tr>\n",
       "      <th>...</th>\n",
       "      <td>...</td>\n",
       "      <td>...</td>\n",
       "      <td>...</td>\n",
       "      <td>...</td>\n",
       "      <td>...</td>\n",
       "      <td>...</td>\n",
       "      <td>...</td>\n",
       "      <td>...</td>\n",
       "      <td>...</td>\n",
       "      <td>...</td>\n",
       "    </tr>\n",
       "    <tr>\n",
       "      <th>4396</th>\n",
       "      <td>1099.00</td>\n",
       "      <td>nodata</td>\n",
       "      <td>-999.25</td>\n",
       "      <td>-999.25</td>\n",
       "      <td>-999</td>\n",
       "      <td>-999</td>\n",
       "      <td>-999</td>\n",
       "      <td>-999.25</td>\n",
       "      <td>nodata</td>\n",
       "      <td>nodata</td>\n",
       "    </tr>\n",
       "    <tr>\n",
       "      <th>4397</th>\n",
       "      <td>1099.25</td>\n",
       "      <td>nodata</td>\n",
       "      <td>-999.25</td>\n",
       "      <td>-999.25</td>\n",
       "      <td>-999</td>\n",
       "      <td>-999</td>\n",
       "      <td>-999</td>\n",
       "      <td>-999.25</td>\n",
       "      <td>nodata</td>\n",
       "      <td>nodata</td>\n",
       "    </tr>\n",
       "    <tr>\n",
       "      <th>4398</th>\n",
       "      <td>1099.50</td>\n",
       "      <td>nodata</td>\n",
       "      <td>-999.25</td>\n",
       "      <td>-999.25</td>\n",
       "      <td>-999</td>\n",
       "      <td>-999</td>\n",
       "      <td>-999</td>\n",
       "      <td>-999.25</td>\n",
       "      <td>nodata</td>\n",
       "      <td>nodata</td>\n",
       "    </tr>\n",
       "    <tr>\n",
       "      <th>4399</th>\n",
       "      <td>1099.75</td>\n",
       "      <td>nodata</td>\n",
       "      <td>-999.25</td>\n",
       "      <td>-999.25</td>\n",
       "      <td>-999</td>\n",
       "      <td>-999</td>\n",
       "      <td>-999</td>\n",
       "      <td>-999.25</td>\n",
       "      <td>nodata</td>\n",
       "      <td>nodata</td>\n",
       "    </tr>\n",
       "    <tr>\n",
       "      <th>4400</th>\n",
       "      <td>1100.00</td>\n",
       "      <td>nodata</td>\n",
       "      <td>-999.25</td>\n",
       "      <td>-999.25</td>\n",
       "      <td>-999</td>\n",
       "      <td>-999</td>\n",
       "      <td>-999</td>\n",
       "      <td>-999.25</td>\n",
       "      <td>nodata</td>\n",
       "      <td>nodata</td>\n",
       "    </tr>\n",
       "  </tbody>\n",
       "</table>\n",
       "<p>4401 rows × 10 columns</p>\n",
       "</div>"
      ],
      "text/plain": [
       "           Depth             Stratigraphy        Temp          GR         CAL  \\\n",
       "0           0.00         Quaternary-Saale     -999.25     8.59859        -999   \n",
       "1           0.25         Quaternary-Saale     -999.25     8.59859        -999   \n",
       "2           0.50         Quaternary-Saale     -999.25     7.65106        -999   \n",
       "3           0.75         Quaternary-Saale     -999.25     7.70233        -999   \n",
       "4           1.00         Quaternary-Saale     -999.25     9.43716        -999   \n",
       "...          ...                      ...         ...         ...         ...   \n",
       "4396     1099.00                   nodata     -999.25     -999.25        -999   \n",
       "4397     1099.25                   nodata     -999.25     -999.25        -999   \n",
       "4398     1099.50                   nodata     -999.25     -999.25        -999   \n",
       "4399     1099.75                   nodata     -999.25     -999.25        -999   \n",
       "4400     1100.00                   nodata     -999.25     -999.25        -999   \n",
       "\n",
       "            PHIN        RHOB         VSH        Lithology   Rock_type  \n",
       "0           -999        -999     -999.25                S           3  \n",
       "1           -999        -999    0.065429                S           3  \n",
       "2           -999        -999   0.0482012                S           3  \n",
       "3           -999        -999   0.0491333                S           3  \n",
       "4           -999        -999   0.0806757                S           3  \n",
       "...          ...         ...         ...              ...         ...  \n",
       "4396        -999        -999     -999.25           nodata      nodata  \n",
       "4397        -999        -999     -999.25           nodata      nodata  \n",
       "4398        -999        -999     -999.25           nodata      nodata  \n",
       "4399        -999        -999     -999.25           nodata      nodata  \n",
       "4400        -999        -999     -999.25           nodata      nodata  \n",
       "\n",
       "[4401 rows x 10 columns]"
      ]
     },
     "execution_count": 2,
     "metadata": {},
     "output_type": "execute_result"
    }
   ],
   "source": [
    "df = pd.read_csv(\n",
    "    r\"C:\\Users\\dergun\\Documents\\SHC-TC-TD-Prediction-using-petrophysical-well-logs\\notebook\\Example_well_input (1).txt\",\n",
    "    encoding=\"utf-16\",   \n",
    "    sep=\"\\t\", \n",
    "    header=0\n",
    ")\n",
    "\n",
    "# Drop first row (often metadata) and reset index\n",
    "df = df.drop(0).reset_index(drop=True)\n",
    "df"
   ]
  },
  {
   "cell_type": "markdown",
   "metadata": {},
   "source": [
    "### STEP 2 - STANDARIZE COLUMNS AND CLEAN COLUMS\n"
   ]
  },
  {
   "cell_type": "markdown",
   "metadata": {},
   "source": [
    "### STEP 4 - ENSURE CORRECT UNITS FOR PHIN AND VSH ( % -> FRACTIONS)"
   ]
  },
  {
   "cell_type": "code",
   "execution_count": null,
   "metadata": {},
   "outputs": [
    {
     "name": "stdout",
     "output_type": "stream",
     "text": [
      "Trying to load model at path: c:\\Users\\dergun\\Documents\\thermoprofiler\\compiled_models/Clastics/XGBoost/TC/1.joblib\n",
      "Exists: True\n",
      "Full path: c:\\Users\\dergun\\Documents\\thermoprofiler\\compiled_models\\Clastics\\XGBoost\\TC\\1.joblib\n"
     ]
    },
    {
     "name": "stderr",
     "output_type": "stream",
     "text": [
      "c:\\Users\\dergun\\miniforge3\\envs\\heatflow_work\\Lib\\pickle.py:1718: UserWarning: [18:17:38] WARNING: C:\\actions-runner\\_work\\xgboost\\xgboost\\src\\data\\../common/error_msg.h:82: If you are loading a serialized model (like pickle in Python, RDS in R) or\n",
      "configuration generated by an older version of XGBoost, please export the model by calling\n",
      "`Booster.save_model` from that version first, then load it back in current version. See:\n",
      "\n",
      "    https://xgboost.readthedocs.io/en/stable/tutorials/saving_model.html\n",
      "\n",
      "for more details about differences between saving model and serializing.\n",
      "\n",
      "  setstate(state)\n"
     ]
    },
    {
     "name": "stdout",
     "output_type": "stream",
     "text": [
      "Trying to load model at path: c:\\Users\\dergun\\Documents\\thermoprofiler\\compiled_models/Clastics/XGBoost/SHC/1.joblib\n",
      "Exists: True\n",
      "Full path: c:\\Users\\dergun\\Documents\\thermoprofiler\\compiled_models\\Clastics\\XGBoost\\SHC\\1.joblib\n",
      "Trying to load model at path: c:\\Users\\dergun\\Documents\\thermoprofiler\\compiled_models/Clastics/XGBoost/TD/1.joblib\n",
      "Exists: True\n",
      "Full path: c:\\Users\\dergun\\Documents\\thermoprofiler\\compiled_models\\Clastics\\XGBoost\\TD\\1.joblib\n",
      "Trying to load model at path: c:\\Users\\dergun\\Documents\\thermoprofiler\\compiled_models/Clastics/XGBoost/TC/3.joblib\n",
      "Exists: True\n",
      "Full path: c:\\Users\\dergun\\Documents\\thermoprofiler\\compiled_models\\Clastics\\XGBoost\\TC\\3.joblib\n",
      "Trying to load model at path: c:\\Users\\dergun\\Documents\\thermoprofiler\\compiled_models/Clastics/XGBoost/SHC/3.joblib\n",
      "Exists: True\n",
      "Full path: c:\\Users\\dergun\\Documents\\thermoprofiler\\compiled_models\\Clastics\\XGBoost\\SHC\\3.joblib\n",
      "Trying to load model at path: c:\\Users\\dergun\\Documents\\thermoprofiler\\compiled_models/Clastics/XGBoost/TD/3.joblib\n",
      "Exists: True\n",
      "Full path: c:\\Users\\dergun\\Documents\\thermoprofiler\\compiled_models\\Clastics\\XGBoost\\TD\\3.joblib\n",
      "Trying to load model at path: c:\\Users\\dergun\\Documents\\thermoprofiler\\compiled_models/Clastics/XGBoost/TC/5.joblib\n",
      "Exists: False\n",
      "Full path: c:\\Users\\dergun\\Documents\\thermoprofiler\\compiled_models\\Clastics\\XGBoost\\TC\\5.joblib\n"
     ]
    },
    {
     "ename": "FileNotFoundError",
     "evalue": "[Errno 2] No such file or directory: 'c:\\\\Users\\\\dergun\\\\Documents\\\\thermoprofiler\\\\compiled_models/Clastics/XGBoost/TC/5.joblib'",
     "output_type": "error",
     "traceback": [
      "\u001b[31m---------------------------------------------------------------------------\u001b[39m",
      "\u001b[31mFileNotFoundError\u001b[39m                         Traceback (most recent call last)",
      "\u001b[36mCell\u001b[39m\u001b[36m \u001b[39m\u001b[32mIn[3]\u001b[39m\u001b[32m, line 10\u001b[39m\n\u001b[32m      6\u001b[39m df = clean_log_dataframe(df)          \n\u001b[32m      7\u001b[39m df = assign_model_numbers(df)       \n\u001b[32m---> \u001b[39m\u001b[32m10\u001b[39m df = \u001b[43mpredict_all_properties\u001b[49m\u001b[43m(\u001b[49m\u001b[43mdf\u001b[49m\u001b[43m)\u001b[49m\n\u001b[32m     12\u001b[39m df.head()\n\u001b[32m     13\u001b[39m df.value_counts()\n",
      "\u001b[36mFile \u001b[39m\u001b[32mc:\\Users\\dergun\\Documents\\thermoprofiler\\thermoprofiler\\prediction.py:49\u001b[39m, in \u001b[36mpredict_all_properties\u001b[39m\u001b[34m(df, model_type)\u001b[39m\n\u001b[32m     46\u001b[39m X = group[log_cols]\n\u001b[32m     48\u001b[39m \u001b[38;5;28;01mfor\u001b[39;00m prop \u001b[38;5;129;01min\u001b[39;00m [\u001b[33m\"\u001b[39m\u001b[33mTC\u001b[39m\u001b[33m\"\u001b[39m, \u001b[33m\"\u001b[39m\u001b[33mSHC\u001b[39m\u001b[33m\"\u001b[39m, \u001b[33m\"\u001b[39m\u001b[33mTD\u001b[39m\u001b[33m\"\u001b[39m]:\n\u001b[32m---> \u001b[39m\u001b[32m49\u001b[39m     model = \u001b[43mload_model\u001b[49m\u001b[43m(\u001b[49m\u001b[43mrock_type_id\u001b[49m\u001b[43m,\u001b[49m\u001b[43m \u001b[49m\u001b[43mmodel_type\u001b[49m\u001b[43m,\u001b[49m\u001b[43m \u001b[49m\u001b[43mprop\u001b[49m\u001b[43m,\u001b[49m\u001b[43m \u001b[49m\u001b[43mmodel_number\u001b[49m\u001b[43m)\u001b[49m\n\u001b[32m     50\u001b[39m     y_pred = model.predict(X)\n\u001b[32m     51\u001b[39m     predictions[prop].loc[group.index] = y_pred\n",
      "\u001b[36mFile \u001b[39m\u001b[32mc:\\Users\\dergun\\Documents\\thermoprofiler\\thermoprofiler\\prediction.py:26\u001b[39m, in \u001b[36mload_model\u001b[39m\u001b[34m(rock_type_id, model_type, property, model_number)\u001b[39m\n\u001b[32m     23\u001b[39m \u001b[38;5;28mprint\u001b[39m(\u001b[33m\"\u001b[39m\u001b[33mExists:\u001b[39m\u001b[33m\"\u001b[39m, os.path.exists(path))\n\u001b[32m     24\u001b[39m \u001b[38;5;28mprint\u001b[39m(\u001b[33m\"\u001b[39m\u001b[33mFull path:\u001b[39m\u001b[33m\"\u001b[39m, os.path.abspath(path))\n\u001b[32m---> \u001b[39m\u001b[32m26\u001b[39m \u001b[38;5;28;01mreturn\u001b[39;00m \u001b[43mjoblib\u001b[49m\u001b[43m.\u001b[49m\u001b[43mload\u001b[49m\u001b[43m(\u001b[49m\u001b[43mpath\u001b[49m\u001b[43m)\u001b[49m\n",
      "\u001b[36mFile \u001b[39m\u001b[32mc:\\Users\\dergun\\miniforge3\\envs\\heatflow_work\\Lib\\site-packages\\joblib\\numpy_pickle.py:735\u001b[39m, in \u001b[36mload\u001b[39m\u001b[34m(filename, mmap_mode, ensure_native_byte_order)\u001b[39m\n\u001b[32m    733\u001b[39m         obj = _unpickle(fobj, ensure_native_byte_order=ensure_native_byte_order)\n\u001b[32m    734\u001b[39m \u001b[38;5;28;01melse\u001b[39;00m:\n\u001b[32m--> \u001b[39m\u001b[32m735\u001b[39m     \u001b[38;5;28;01mwith\u001b[39;00m \u001b[38;5;28;43mopen\u001b[39;49m\u001b[43m(\u001b[49m\u001b[43mfilename\u001b[49m\u001b[43m,\u001b[49m\u001b[43m \u001b[49m\u001b[33;43m\"\u001b[39;49m\u001b[33;43mrb\u001b[39;49m\u001b[33;43m\"\u001b[39;49m\u001b[43m)\u001b[49m \u001b[38;5;28;01mas\u001b[39;00m f:\n\u001b[32m    736\u001b[39m         \u001b[38;5;28;01mwith\u001b[39;00m _validate_fileobject_and_memmap(f, filename, mmap_mode) \u001b[38;5;28;01mas\u001b[39;00m (\n\u001b[32m    737\u001b[39m             fobj,\n\u001b[32m    738\u001b[39m             validated_mmap_mode,\n\u001b[32m    739\u001b[39m         ):\n\u001b[32m    740\u001b[39m             \u001b[38;5;28;01mif\u001b[39;00m \u001b[38;5;28misinstance\u001b[39m(fobj, \u001b[38;5;28mstr\u001b[39m):\n\u001b[32m    741\u001b[39m                 \u001b[38;5;66;03m# if the returned file object is a string, this means we\u001b[39;00m\n\u001b[32m    742\u001b[39m                 \u001b[38;5;66;03m# try to load a pickle file generated with an version of\u001b[39;00m\n\u001b[32m    743\u001b[39m                 \u001b[38;5;66;03m# Joblib so we load it with joblib compatibility function.\u001b[39;00m\n",
      "\u001b[31mFileNotFoundError\u001b[39m: [Errno 2] No such file or directory: 'c:\\\\Users\\\\dergun\\\\Documents\\\\thermoprofiler\\\\compiled_models/Clastics/XGBoost/TC/5.joblib'"
     ]
    }
   ],
   "source": [
    "from thermoprofiler.model_selector import assign_model_numbers\n",
    "from thermoprofiler.preprocessing import clean_log_dataframe\n",
    "from thermoprofiler.prediction import predict_all_properties\n",
    "\n",
    "\n",
    "df = clean_log_dataframe(df)          \n",
    "df = assign_model_numbers(df)       \n",
    "\n",
    "\n",
    "df = predict_all_properties(df, model_type=\"ADABOOST\")\n",
    "\n",
    "df.head()\n",
    "df.value_counts()\n",
    "df.tail(500)"
   ]
  },
  {
   "cell_type": "markdown",
   "metadata": {},
   "source": [
    "### STEP 5 - ASSIGN MODEL NUMBER PER INTERVALL\n",
    "Assigns a model number to each row in the dataset depending on which combination of logs is available in the row.\n",
    "| Model Number | Logs Included                  |\n",
    "| -- | ------------------------------ |\n",
    "| 1  | \\['RHOB']                      |\n",
    "| 2  | \\['PHIN']                      |\n",
    "| 3  | \\['VSH']                       |\n",
    "| 4  | \\['Vp']                        |\n",
    "| 5  | \\['RHOB', 'PHIN']              |\n",
    "| 6  | \\['RHOB', 'VSH']               |\n",
    "| 7  | \\['RHOB', 'Vp']                |\n",
    "| 8  | \\['PHIN', 'VSH']               |\n",
    "| 9  | \\['PHIN', 'Vp']                |\n",
    "| 10 | \\['VSH', 'Vp']                 |\n",
    "| 11 | \\['RHOB', 'PHIN', 'VSH']       |\n",
    "| 12 | \\['RHOB', 'PHIN', 'Vp']        |\n",
    "| 13 | \\['RHOB', 'VSH', 'Vp']         |\n",
    "| 14 | \\['PHIN', 'VSH', 'Vp']         |\n",
    "| 15 | \\['RHOB', 'PHIN', 'VSH', 'Vp'] |\n"
   ]
  },
  {
   "cell_type": "markdown",
   "metadata": {},
   "source": [
    "### STEP 6 - PREDICT THERMAL PROPERTIES \n",
    "In this step, thermal properties (e.g., thermal conductivity (TC) and heat capacity (SHC)) are predicted. \n",
    "Rock type options:\n",
    "\n",
    "- Carbonates\n",
    "-  Evaporites\n",
    "-   Clastics\n",
    "\n",
    "Model options:\n",
    "\n",
    "-   Linear Regression\n",
    "-   AdaBoost\n",
    "-   XGBoost\n",
    "-   Random Forest (RF)\n",
    "\n",
    "Target properties:\n",
    "-   Thermal Difussivity (TD)\n",
    "-   Thermal Conductivity (TC)\n",
    "-   Heat Capacity (SHC)"
   ]
  }
 ],
 "metadata": {
  "accelerator": "GPU",
  "colab": {
   "collapsed_sections": [
    "-UUSIJ53bb71",
    "WoB9TsN-bh3c",
    "Ny9-K4BUcP28",
    "SmDbP9EopmQP",
    "XvhW1rX6q6u2",
    "dAfBugJyrEEx",
    "l2m4wS4_uvyJ",
    "Fia4jf1Ujy8s",
    "6nk8YUkRyb-v",
    "T-myGv65RaGA",
    "SMVFb6VBbGW3",
    "IB6nXZdeVq9q",
    "jGeLpvHEVviv",
    "LeJrDwj8VzYI"
   ],
   "provenance": []
  },
  "gpuClass": "premium",
  "kernelspec": {
   "display_name": "heatflow_work",
   "language": "python",
   "name": "python3"
  },
  "language_info": {
   "codemirror_mode": {
    "name": "ipython",
    "version": 3
   },
   "file_extension": ".py",
   "mimetype": "text/x-python",
   "name": "python",
   "nbconvert_exporter": "python",
   "pygments_lexer": "ipython3",
   "version": "3.11.13"
  },
  "toc": {
   "base_numbering": 1,
   "nav_menu": {},
   "number_sections": true,
   "sideBar": true,
   "skip_h1_title": false,
   "title_cell": "Table of Contents",
   "title_sidebar": "Contents",
   "toc_cell": false,
   "toc_position": {},
   "toc_section_display": true,
   "toc_window_display": false
  },
  "varInspector": {
   "cols": {
    "lenName": 16,
    "lenType": 16,
    "lenVar": 40
   },
   "kernels_config": {
    "python": {
     "delete_cmd_postfix": "",
     "delete_cmd_prefix": "del ",
     "library": "var_list.py",
     "varRefreshCmd": "print(var_dic_list())"
    },
    "r": {
     "delete_cmd_postfix": ") ",
     "delete_cmd_prefix": "rm(",
     "library": "var_list.r",
     "varRefreshCmd": "cat(var_dic_list()) "
    }
   },
   "types_to_exclude": [
    "module",
    "function",
    "builtin_function_or_method",
    "instance",
    "_Feature"
   ],
   "window_display": false
  }
 },
 "nbformat": 4,
 "nbformat_minor": 1
}
